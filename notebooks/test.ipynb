{
 "cells": [
  {
   "cell_type": "code",
   "execution_count": 2,
   "id": "6e2f4834",
   "metadata": {},
   "outputs": [],
   "source": [
    "import numpy as np\n",
    "from scipy import signal\n",
    "import math\n",
    "from wonambi import Dataset\n",
    "import matplotlib.pyplot as plt\n",
    "import numpy as np\n",
    "from scipy import fft\n",
    "import pandas as pd\n",
    "import scipy\n",
    "import sys\n",
    "sys.path.append('..')\n",
    "from neursa import preprocessing\n",
    "\n",
    "\n",
    "def AdaptBP_weight(X, f0, beta, delta, mu, fe, Aff):\n",
    "    f0 = f0 / fe\n",
    "    N = X.shape[0]\n",
    "    nsig = 1\n",
    "    weights = np.zeros((N, nsig))\n",
    "    Y = X\n",
    "    alpha = np.ones(N + 1) * np.cos(2 * np.pi * f0)\n",
    "    b = 0.5 * (1 - beta) * np.array([1, 0, -1])\n",
    "    a = np.array([1, -alpha[1] * (beta + 1), beta])\n",
    "    V = signal.lfilter(b, a, Y)\n",
    "    Q = np.mean(V[2:99]*(V[1:98] + V[3:100]))\n",
    "    P = np.mean(V[1:100]**2)\n",
    "    J = V[3:100]-2 * alpha[1] * V[2:99]+V[1: 98]\n",
    "    J = np.mean(J * J)\n",
    "    S = np.mean((X[1:100])** 2)\n",
    "    W = S / J\n",
    "    weights[1, :] = W / np.sum(W)\n",
    "    weights[2, :] = W / np.sum(W)\n",
    "    for n in np.arange(3, N):\n",
    "        Y[n] = alpha[n] * (beta + 1) * Y[n - 1] - beta * Y[n - 2] + 0.5 * (1 - beta) * (X[n] - X[n - 2])\n",
    "        Q = delta * Q + (1 - delta) * (Y[n - 1] * (Y[n] + Y[n - 2]))\n",
    "        P = delta * P + (1 - delta) * Y[n - 1] * Y[n - 1]\n",
    "        J = mu * J + (1 - mu) * (Y[n] - 2 * alpha[n] * Y[n - 1]+Y[n - 2])** 2\n",
    "        S = mu * S + (1 - mu) * X[n]** 2\n",
    "        W = S / J\n",
    "        weights[n, :] = W / np.sum(W)\n",
    "        alpha[n + 1] = 0.5 * weights[n,:]*(Q / P)\n",
    "    k = alpha.shape[0]\n",
    "    alpha = alpha[1: k-1]\n",
    "    alpha = alpha * (abs(alpha) < 1) + 1.0 * (alpha >= 1) - 1.0 * (alpha <= -1)\n",
    "    IF = fe * np.real(np.arccos(alpha)) / 2 / np.pi\n",
    "    return IF\n",
    "\n",
    "\n",
    "\n"
   ]
  },
  {
   "cell_type": "code",
   "execution_count": null,
   "id": "72bf520b",
   "metadata": {},
   "outputs": [],
   "source": [
    "def prepare_experiment(path_to_recording, info):\n",
    "#     info = preprocessing.parse_table_info()\n",
    "    paths = glob(f'{path_to_recording}/*')\n",
    "    index = path_to_recording.split('Recording')[-1]\n",
    "    date = info.loc[index, 'date']\n",
    "    for i in paths:\n",
    "        if i.find('.edf') != -1:\n",
    "            data = Dataset(i)\n",
    "            headers = data.header['chan_name']\n",
    "            data = data.read_data()\n",
    "            time_sensors = preprocessing.get_time_sensors(data)\n",
    "            sensors = zip(data[0]\n",
    "            \n",
    "        elif (i.find('scores') != -1) and (i.find('csv')):\n",
    "            labels = preprocessing.get_labels(i)\n",
    "            time_labels = preprocessing.get_time_for_labels(i, date)\n",
    "\n",
    "\n",
    "            \n"
   ]
  },
  {
   "cell_type": "code",
   "execution_count": null,
   "id": "9ce269dc",
   "metadata": {},
   "outputs": [],
   "source": []
  },
  {
   "cell_type": "code",
   "execution_count": null,
   "id": "91e3d2a8",
   "metadata": {},
   "outputs": [],
   "source": []
  },
  {
   "cell_type": "code",
   "execution_count": 3,
   "id": "adb9499d",
   "metadata": {},
   "outputs": [
    {
     "ename": "FileNotFoundError",
     "evalue": "[Errno 2] No such file or directory: '/Users/anastasiafilippova/Downloads/Recording721001/Courbes 002.edf'",
     "output_type": "error",
     "traceback": [
      "\u001b[0;31m---------------------------------------------------------------------------\u001b[0m",
      "\u001b[0;31mFileNotFoundError\u001b[0m                         Traceback (most recent call last)",
      "\u001b[0;32m/var/folders/kb/kmgnyf_s08z8583ty8pnbhnh0000gn/T/ipykernel_1298/3982051283.py\u001b[0m in \u001b[0;36m<module>\u001b[0;34m\u001b[0m\n\u001b[0;32m----> 1\u001b[0;31m \u001b[0md\u001b[0m \u001b[0;34m=\u001b[0m \u001b[0mDataset\u001b[0m\u001b[0;34m(\u001b[0m\u001b[0;34m'/Users/anastasiafilippova/Downloads/Recording721001/Courbes 002.edf'\u001b[0m\u001b[0;34m)\u001b[0m\u001b[0;34m\u001b[0m\u001b[0;34m\u001b[0m\u001b[0m\n\u001b[0m\u001b[1;32m      2\u001b[0m \u001b[0mpath\u001b[0m \u001b[0;34m=\u001b[0m \u001b[0;34m'/Users/anastasiafilippova/Downloads/Recording721001/Courbes_scores_002.csv'\u001b[0m\u001b[0;34m\u001b[0m\u001b[0;34m\u001b[0m\u001b[0m\n\u001b[1;32m      3\u001b[0m \u001b[0mindex\u001b[0m \u001b[0;34m=\u001b[0m \u001b[0;36m721002\u001b[0m\u001b[0;34m\u001b[0m\u001b[0;34m\u001b[0m\u001b[0m\n",
      "\u001b[0;32m/usr/local/lib/python3.9/site-packages/wonambi/dataset.py\u001b[0m in \u001b[0;36m__init__\u001b[0;34m(self, filename, IOClass, session, bids)\u001b[0m\n\u001b[1;32m    215\u001b[0m \u001b[0;34m\u001b[0m\u001b[0m\n\u001b[1;32m    216\u001b[0m         \u001b[0;32melse\u001b[0m\u001b[0;34m:\u001b[0m\u001b[0;34m\u001b[0m\u001b[0;34m\u001b[0m\u001b[0m\n\u001b[0;32m--> 217\u001b[0;31m             \u001b[0mself\u001b[0m\u001b[0;34m.\u001b[0m\u001b[0mdataset\u001b[0m \u001b[0;34m=\u001b[0m \u001b[0mself\u001b[0m\u001b[0;34m.\u001b[0m\u001b[0mIOClass\u001b[0m\u001b[0;34m(\u001b[0m\u001b[0mself\u001b[0m\u001b[0;34m.\u001b[0m\u001b[0mfilename\u001b[0m\u001b[0;34m)\u001b[0m\u001b[0;34m\u001b[0m\u001b[0;34m\u001b[0m\u001b[0m\n\u001b[0m\u001b[1;32m    218\u001b[0m \u001b[0;34m\u001b[0m\u001b[0m\n\u001b[1;32m    219\u001b[0m         \u001b[0moutput\u001b[0m \u001b[0;34m=\u001b[0m \u001b[0mself\u001b[0m\u001b[0;34m.\u001b[0m\u001b[0mdataset\u001b[0m\u001b[0;34m.\u001b[0m\u001b[0mreturn_hdr\u001b[0m\u001b[0;34m(\u001b[0m\u001b[0;34m)\u001b[0m\u001b[0;34m\u001b[0m\u001b[0;34m\u001b[0m\u001b[0m\n",
      "\u001b[0;32m/usr/local/lib/python3.9/site-packages/wonambi/ioeeg/edf.py\u001b[0m in \u001b[0;36m__init__\u001b[0;34m(self, edffile)\u001b[0m\n\u001b[1;32m     51\u001b[0m     \u001b[0;32mdef\u001b[0m \u001b[0m__init__\u001b[0m\u001b[0;34m(\u001b[0m\u001b[0mself\u001b[0m\u001b[0;34m,\u001b[0m \u001b[0medffile\u001b[0m\u001b[0;34m)\u001b[0m\u001b[0;34m:\u001b[0m\u001b[0;34m\u001b[0m\u001b[0;34m\u001b[0m\u001b[0m\n\u001b[1;32m     52\u001b[0m         \u001b[0mself\u001b[0m\u001b[0;34m.\u001b[0m\u001b[0mfilename\u001b[0m \u001b[0;34m=\u001b[0m \u001b[0mPath\u001b[0m\u001b[0;34m(\u001b[0m\u001b[0medffile\u001b[0m\u001b[0;34m)\u001b[0m\u001b[0;34m\u001b[0m\u001b[0;34m\u001b[0m\u001b[0m\n\u001b[0;32m---> 53\u001b[0;31m         \u001b[0mself\u001b[0m\u001b[0;34m.\u001b[0m\u001b[0m_read_hdr\u001b[0m\u001b[0;34m(\u001b[0m\u001b[0;34m)\u001b[0m\u001b[0;34m\u001b[0m\u001b[0;34m\u001b[0m\u001b[0m\n\u001b[0m\u001b[1;32m     54\u001b[0m \u001b[0;34m\u001b[0m\u001b[0m\n\u001b[1;32m     55\u001b[0m     \u001b[0;32mdef\u001b[0m \u001b[0m_read_hdr\u001b[0m\u001b[0;34m(\u001b[0m\u001b[0mself\u001b[0m\u001b[0;34m)\u001b[0m\u001b[0;34m:\u001b[0m\u001b[0;34m\u001b[0m\u001b[0;34m\u001b[0m\u001b[0m\n",
      "\u001b[0;32m/usr/local/lib/python3.9/site-packages/wonambi/ioeeg/edf.py\u001b[0m in \u001b[0;36m_read_hdr\u001b[0;34m(self)\u001b[0m\n\u001b[1;32m     58\u001b[0m         \u001b[0mIt\u001b[0m \u001b[0monly\u001b[0m \u001b[0mreads\u001b[0m \u001b[0mthe\u001b[0m \u001b[0mheader\u001b[0m \u001b[0;32mfor\u001b[0m \u001b[0minternal\u001b[0m \u001b[0mpurposes\u001b[0m \u001b[0;32mand\u001b[0m \u001b[0madds\u001b[0m \u001b[0ma\u001b[0m \u001b[0mhdr\u001b[0m\u001b[0;34m.\u001b[0m\u001b[0;34m\u001b[0m\u001b[0;34m\u001b[0m\u001b[0m\n\u001b[1;32m     59\u001b[0m         \"\"\"\n\u001b[0;32m---> 60\u001b[0;31m         \u001b[0;32mwith\u001b[0m \u001b[0mself\u001b[0m\u001b[0;34m.\u001b[0m\u001b[0mfilename\u001b[0m\u001b[0;34m.\u001b[0m\u001b[0mopen\u001b[0m\u001b[0;34m(\u001b[0m\u001b[0;34m'rb'\u001b[0m\u001b[0;34m)\u001b[0m \u001b[0;32mas\u001b[0m \u001b[0mf\u001b[0m\u001b[0;34m:\u001b[0m\u001b[0;34m\u001b[0m\u001b[0;34m\u001b[0m\u001b[0m\n\u001b[0m\u001b[1;32m     61\u001b[0m \u001b[0;34m\u001b[0m\u001b[0m\n\u001b[1;32m     62\u001b[0m             \u001b[0mhdr\u001b[0m \u001b[0;34m=\u001b[0m \u001b[0;34m{\u001b[0m\u001b[0;34m}\u001b[0m\u001b[0;34m\u001b[0m\u001b[0;34m\u001b[0m\u001b[0m\n",
      "\u001b[0;32m/usr/local/Cellar/python@3.9/3.9.7/Frameworks/Python.framework/Versions/3.9/lib/python3.9/pathlib.py\u001b[0m in \u001b[0;36mopen\u001b[0;34m(self, mode, buffering, encoding, errors, newline)\u001b[0m\n\u001b[1;32m   1250\u001b[0m         \u001b[0mthe\u001b[0m \u001b[0mbuilt\u001b[0m\u001b[0;34m-\u001b[0m\u001b[0;32min\u001b[0m \u001b[0mopen\u001b[0m\u001b[0;34m(\u001b[0m\u001b[0;34m)\u001b[0m \u001b[0mfunction\u001b[0m \u001b[0mdoes\u001b[0m\u001b[0;34m.\u001b[0m\u001b[0;34m\u001b[0m\u001b[0;34m\u001b[0m\u001b[0m\n\u001b[1;32m   1251\u001b[0m         \"\"\"\n\u001b[0;32m-> 1252\u001b[0;31m         return io.open(self, mode, buffering, encoding, errors, newline,\n\u001b[0m\u001b[1;32m   1253\u001b[0m                        opener=self._opener)\n\u001b[1;32m   1254\u001b[0m \u001b[0;34m\u001b[0m\u001b[0m\n",
      "\u001b[0;32m/usr/local/Cellar/python@3.9/3.9.7/Frameworks/Python.framework/Versions/3.9/lib/python3.9/pathlib.py\u001b[0m in \u001b[0;36m_opener\u001b[0;34m(self, name, flags, mode)\u001b[0m\n\u001b[1;32m   1118\u001b[0m     \u001b[0;32mdef\u001b[0m \u001b[0m_opener\u001b[0m\u001b[0;34m(\u001b[0m\u001b[0mself\u001b[0m\u001b[0;34m,\u001b[0m \u001b[0mname\u001b[0m\u001b[0;34m,\u001b[0m \u001b[0mflags\u001b[0m\u001b[0;34m,\u001b[0m \u001b[0mmode\u001b[0m\u001b[0;34m=\u001b[0m\u001b[0;36m0o666\u001b[0m\u001b[0;34m)\u001b[0m\u001b[0;34m:\u001b[0m\u001b[0;34m\u001b[0m\u001b[0;34m\u001b[0m\u001b[0m\n\u001b[1;32m   1119\u001b[0m         \u001b[0;31m# A stub for the opener argument to built-in open()\u001b[0m\u001b[0;34m\u001b[0m\u001b[0;34m\u001b[0m\u001b[0m\n\u001b[0;32m-> 1120\u001b[0;31m         \u001b[0;32mreturn\u001b[0m \u001b[0mself\u001b[0m\u001b[0;34m.\u001b[0m\u001b[0m_accessor\u001b[0m\u001b[0;34m.\u001b[0m\u001b[0mopen\u001b[0m\u001b[0;34m(\u001b[0m\u001b[0mself\u001b[0m\u001b[0;34m,\u001b[0m \u001b[0mflags\u001b[0m\u001b[0;34m,\u001b[0m \u001b[0mmode\u001b[0m\u001b[0;34m)\u001b[0m\u001b[0;34m\u001b[0m\u001b[0;34m\u001b[0m\u001b[0m\n\u001b[0m\u001b[1;32m   1121\u001b[0m \u001b[0;34m\u001b[0m\u001b[0m\n\u001b[1;32m   1122\u001b[0m     \u001b[0;32mdef\u001b[0m \u001b[0m_raw_open\u001b[0m\u001b[0;34m(\u001b[0m\u001b[0mself\u001b[0m\u001b[0;34m,\u001b[0m \u001b[0mflags\u001b[0m\u001b[0;34m,\u001b[0m \u001b[0mmode\u001b[0m\u001b[0;34m=\u001b[0m\u001b[0;36m0o777\u001b[0m\u001b[0;34m)\u001b[0m\u001b[0;34m:\u001b[0m\u001b[0;34m\u001b[0m\u001b[0;34m\u001b[0m\u001b[0m\n",
      "\u001b[0;31mFileNotFoundError\u001b[0m: [Errno 2] No such file or directory: '/Users/anastasiafilippova/Downloads/Recording721001/Courbes 002.edf'"
     ]
    }
   ],
   "source": [
    "d = Dataset('/Users/anastasiafilippova/Downloads/Recording721002/Courbes 002.edf')\n",
    "path = '/Users/anastasiafilippova/Downloads/Recording721002/Courbes_scores_002.csv'\n",
    "index = 721002"
   ]
  },
  {
   "cell_type": "code",
   "execution_count": 3,
   "id": "3f42d711",
   "metadata": {},
   "outputs": [],
   "source": [
    "data = d.read_data()"
   ]
  },
  {
   "cell_type": "code",
   "execution_count": 4,
   "id": "5b22326b",
   "metadata": {},
   "outputs": [],
   "source": [
    "labels = preprocessing.get_labels(path)\n",
    "info = preprocessing.parse_table_info()"
   ]
  },
  {
   "cell_type": "code",
   "execution_count": 5,
   "id": "617be573",
   "metadata": {},
   "outputs": [],
   "source": [
    "window_size = int(256*30)\n",
    "start = 1000"
   ]
  },
  {
   "cell_type": "code",
   "execution_count": 6,
   "id": "4f26d500",
   "metadata": {},
   "outputs": [],
   "source": [
    "y = data.data[0][23, start:window_size+start]"
   ]
  },
  {
   "cell_type": "code",
   "execution_count": 15,
   "id": "65782650",
   "metadata": {},
   "outputs": [],
   "source": [
    "def remove_trend(signal, a=1, cutoff=0.3, fs=256, numcoef=1025, pass_zero=False):\n",
    "    b = scipy.signal.firwin(numcoef, cutoff, fs=fs, pass_zero=pass_zero)\n",
    "    cleared_signal = scipy.signal.filtfilt(b, a, signal)\n",
    "    return cleared_signal\n",
    "\n",
    "def min_max_scaler(X):\n",
    "    \n",
    "    X_std = (X - np.min(X)) / (np.max(X) - np.min(X))\n",
    "    \n",
    "    return X_std\n",
    "\n",
    "def get_rr_interval(peaks):\n",
    "    rr_intervals = np.diff(peaks)\n",
    "\n",
    "    return rr_intervals\n",
    "\n",
    "def get_ecg_features(ecg_window):\n",
    "    \n",
    "    without_trend = remove_trend(ecg_window)\n",
    "    scaled_z = min_max_scaler(without_trend)\n",
    "    peaks = scipy.signal.find_peaks(scaled_z, distance = int(0.5*256))\n",
    "    rr_intervals = get_rr_interval(peaks[0])\n",
    "    \n",
    "    logs = np.zeros(ecg_window.shape[0])\n",
    "    logs[peaks[0]] = 1\n",
    "    \n",
    "    \n",
    "    return {'rri': rr_intervals, 'average_rri': np.mean(rr_intervals),\n",
    "            'number_of_beats': np.sum(logs), \n",
    "            'beats': logs, 'peaks': peaks}"
   ]
  },
  {
   "cell_type": "code",
   "execution_count": 16,
   "id": "33394f4a",
   "metadata": {},
   "outputs": [],
   "source": [
    "ecg = data.data[0][23, 1000:1000+window_size]\n",
    "\n",
    "result = get_ecg_features(ecg)"
   ]
  },
  {
   "cell_type": "code",
   "execution_count": 17,
   "id": "218cdb2c",
   "metadata": {},
   "outputs": [
    {
     "data": {
      "text/plain": [
       "{'rri': array([168, 164, 168, 165, 169, 167, 170, 169, 164, 168, 165, 164, 164,\n",
       "        168, 165, 168, 170, 169, 168, 165, 167, 160, 164, 169, 169, 169,\n",
       "        173, 170, 168, 165, 168, 165, 169, 164, 168, 165, 168, 168, 165,\n",
       "        169, 169, 168, 169, 165, 169]),\n",
       " 'average_rri': 167.13333333333333,\n",
       " 'number_of_beats': 46.0,\n",
       " 'beats': array([0., 0., 0., ..., 0., 0., 0.]),\n",
       " 'peaks': (array([  45,  213,  377,  545,  710,  879, 1046, 1216, 1385, 1549, 1717,\n",
       "         1882, 2046, 2210, 2378, 2543, 2711, 2881, 3050, 3218, 3383, 3550,\n",
       "         3710, 3874, 4043, 4212, 4381, 4554, 4724, 4892, 5057, 5225, 5390,\n",
       "         5559, 5723, 5891, 6056, 6224, 6392, 6557, 6726, 6895, 7063, 7232,\n",
       "         7397, 7566]),\n",
       "  {})}"
      ]
     },
     "execution_count": 17,
     "metadata": {},
     "output_type": "execute_result"
    }
   ],
   "source": [
    "result"
   ]
  },
  {
   "cell_type": "code",
   "execution_count": 28,
   "id": "248be6b9",
   "metadata": {},
   "outputs": [
    {
     "data": {
      "text/plain": [
       "[<matplotlib.lines.Line2D at 0x1331afd60>]"
      ]
     },
     "execution_count": 28,
     "metadata": {},
     "output_type": "execute_result"
    },
    {
     "data": {
      "image/png": "[encoded data removed]",
      "text/plain": [
       "<Figure size 432x288 with 1 Axes>"
      ]
     },
     "metadata": {
      "needs_background": "light"
     },
     "output_type": "display_data"
    }
   ],
   "source": [
    "y = data.data[0][13, 4000:5000]\n",
    "plt.plot(y)"
   ]
  },
  {
   "cell_type": "code",
   "execution_count": 229,
   "id": "64c48177",
   "metadata": {},
   "outputs": [
    {
     "data": {
      "image/png": "[encoded data removed]",
      "text/plain": [
       "<Figure size 432x288 with 1 Axes>"
      ]
     },
     "metadata": {
      "needs_background": "light"
     },
     "output_type": "display_data"
    }
   ],
   "source": [
    "\n",
    "plt.plot(z)\n",
    "# plt.plot(without_trend)\n",
    "plt.plot(without_trend)\n",
    "plt.scatter(peaks[0], without_trend[peaks[0]], marker='x', color = 'red')\n",
    "plt.show()"
   ]
  },
  {
   "cell_type": "code",
   "execution_count": null,
   "id": "953f9644",
   "metadata": {},
   "outputs": [],
   "source": []
  }
 ],
 "metadata": {
  "kernelspec": {
   "display_name": "Python 3 (ipykernel)",
   "language": "python",
   "name": "python3"
  },
  "language_info": {
   "codemirror_mode": {
    "name": "ipython",
    "version": 3
   },
   "file_extension": ".py",
   "mimetype": "text/x-python",
   "name": "python",
   "nbconvert_exporter": "python",
   "pygments_lexer": "ipython3",
   "version": "3.9.7"
  }
 },
 "nbformat": 4,
 "nbformat_minor": 5
}
