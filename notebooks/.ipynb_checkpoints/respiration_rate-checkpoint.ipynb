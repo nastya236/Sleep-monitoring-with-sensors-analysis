{
 "cells": [
  {
   "cell_type": "code",
   "execution_count": 209,
   "id": "6e2f4834",
   "metadata": {},
   "outputs": [
    {
     "name": "stdout",
     "output_type": "stream",
     "text": [
      "The autoreload extension is already loaded. To reload it, use:\n",
      "  %reload_ext autoreload\n"
     ]
    }
   ],
   "source": [
    "import numpy as np\n",
    "from scipy import signal\n",
    "import math\n",
    "from wonambi import Dataset\n",
    "import matplotlib.pyplot as plt\n",
    "import numpy as np\n",
    "from scipy import fft\n",
    "import pandas as pd\n",
    "from glob import glob\n",
    "import scipy\n",
    "import sys\n",
    "sys.path.append('..')\n",
    "from neursa.preprocessing.preparation import parse_table_info, get_time_for_labels,\\\n",
    "get_labels, get_time_sensors\n",
    "from neursa.data.dataset import SegmentsDataset\n",
    "\n",
    "\n",
    "%load_ext autoreload\n",
    "%autoreload 2\n"
   ]
  },
  {
   "cell_type": "code",
   "execution_count": 210,
   "id": "adb9499d",
   "metadata": {},
   "outputs": [],
   "source": [
    "recording_paths = sorted(glob('/data/anvlfilippova/Institution/*/'))\n",
    "info_path = '/data/anvlfilippova/Institution/SleepSensor_Recordings list.xlsx'"
   ]
  },
  {
   "cell_type": "code",
   "execution_count": 273,
   "id": "9167e39d",
   "metadata": {},
   "outputs": [],
   "source": [
    "recording_paths_train = ['/data/anvlfilippova/Institution/Recording 0721001/',\n",
    " '/data/anvlfilippova/Institution/Recording 0721002/',\n",
    " '/data/anvlfilippova/Institution/Recording 0721003/',\n",
    "#  '/data/anvlfilippova/Institution/Recording 0821004/',\n",
    " '/data/anvlfilippova/Institution/Recording 0821005/',\n",
    "#  '/data/anvlfilippova/Institution/Recording 0821006/',\n",
    "#  '/data/anvlfilippova/Institution/Recording 0921007/'\n",
    "                        ]\n",
    "recording_paths_valid = ['/data/anvlfilippova/Institution/Recording 0821006/']"
   ]
  },
  {
   "cell_type": "code",
   "execution_count": 274,
   "id": "010b2d47",
   "metadata": {},
   "outputs": [],
   "source": [
    "def interpolate(x, xp, fp):\n",
    "    if fp.ndim == 1:\n",
    "        interp_x = np.interp(x, xp, fp)\n",
    "    else:\n",
    "        axis = fp.shape[1]\n",
    "        len_x = x.shape[0]\n",
    "        size = (len_x, axis)\n",
    "        interp_x = np.zeros(size)\n",
    "        for i in range(axis):\n",
    "            signal = fp[:, i]\n",
    "            interp_x[:, i] = np.interp(x, xp, signal)\n",
    "    return interp_x"
   ]
  },
  {
   "cell_type": "code",
   "execution_count": 275,
   "id": "c8065ad6",
   "metadata": {},
   "outputs": [],
   "source": [
    "orientations_train = np.zeros(len(recording_paths_train))\n",
    "orientations_valid = np.zeros(len(recording_paths_valid))"
   ]
  },
  {
   "cell_type": "code",
   "execution_count": 276,
   "id": "fbd0a7ae",
   "metadata": {},
   "outputs": [
    {
     "name": "stderr",
     "output_type": "stream",
     "text": [
      "Processing experiments: 100%|██████████| 4/4 [01:08<00:00, 17.03s/it]\n",
      "Processing experiments: 100%|██████████| 1/1 [00:16<00:00, 16.41s/it]\n"
     ]
    },
    {
     "data": {
      "text/plain": [
       "<neursa.data.dataset.SegmentsDataset at 0x7fa2abd47320>"
      ]
     },
     "execution_count": 276,
     "metadata": {},
     "output_type": "execute_result"
    }
   ],
   "source": [
    "train_dataset = SegmentsDataset(recording_paths_train, \n",
    "                                orientations_train, \n",
    "                                segment_params={'window_size': 256*30, 'step_size':256*5})\n",
    "valid_dataset = SegmentsDataset(recording_paths_valid, \n",
    "                                orientations_valid,\n",
    "                               segment_params={'window_size': 256*30, 'step_size':256*5})\n",
    "train_dataset.process_experiments()\n",
    "valid_dataset.process_experiments()"
   ]
  },
  {
   "cell_type": "code",
   "execution_count": 300,
   "id": "3e2a2f5a",
   "metadata": {},
   "outputs": [],
   "source": [
    "from torch.utils.data import DataLoader\n",
    "train_loader = DataLoader(train_dataset, batch_size=128, shuffle=True)\n",
    "valid_loader = DataLoader(valid_dataset, batch_size=128, shuffle=False)\n",
    "from neursa.models.resnet import ResNet\n",
    "dropout_rate = 0.2\n",
    "channels = [9, 64, 64, 256, 512, 1024, 5]\n",
    "resnet = ResNet(channels=channels, dropout_rate=dropout_rate, need_softmax=False)"
   ]
  },
  {
   "cell_type": "code",
   "execution_count": 301,
   "id": "fc18477c",
   "metadata": {},
   "outputs": [],
   "source": [
    "from torch import nn\n",
    "import torch\n",
    "class Model(nn.Module):\n",
    "    def __init__(self, backbone, device):\n",
    "        super().__init__()\n",
    "        self.device = device\n",
    "        self.backbone = backbone\n",
    "        self.backbone.to(self.device)\n",
    "        \n",
    "    def forward(self, batch_data):\n",
    "        piezo1 = batch_data['piezo1'][:, :, None]\n",
    "        piezo2 = batch_data['piezo2'][:, :, None]\n",
    "        piezo3 = batch_data['piezo3'][:, :, None]\n",
    "        piezo4 = batch_data['piezo4'][:, :, None]\n",
    "        piezo5 = batch_data['piezo5'][:, :, None]\n",
    "        piezoA = batch_data['piezoA'][:, :, None]\n",
    "        piezoB = batch_data['piezoB'][:, :, None]\n",
    "        piezoEF = batch_data['piezoEF'][:, :, None]\n",
    "        piezoDC = batch_data['piezoDC'][:, :, None]\n",
    "\n",
    "        x = torch.cat((piezo1, piezo2, piezo3, piezo4, piezo5, \n",
    "                       piezoA, piezoB, piezoEF, piezoDC), -1)\n",
    "#         thorax = batch_data['thorax'][:, :, None]\n",
    "#         abdomen = batch_data['abdomen'][:, :, None]\n",
    "#         plethysmogram = batch_data['pleth'][:, :, None]\n",
    "#         x = torch.cat((thorax, abdomen, plethysmogram), -1)\n",
    "        x = x.permute(0, 2, 1).to(self.device)\n",
    "        prediction = self.backbone(x)\n",
    "        \n",
    "        return prediction\n",
    "    \n",
    "    def train(self, train_loader, valid_loader, \n",
    "              criterion, optimizer, epochs):\n",
    "        train_loss = []\n",
    "        valid_loss = []\n",
    "        for i in range(epochs):\n",
    "            train_loss_epoch = self.train_epoch(train_loader, \n",
    "                                           criterion,\n",
    "                                           optimizer)\n",
    "            train_loss.append(train_loss_epoch)\n",
    "            valid_loss_epoch = self.valid_epoch(valid_loader)\n",
    "            valid_loss.append(valid_loss_epoch)\n",
    "            \n",
    "            print(f'Epoch {i+1}: train loss {train_loss_epoch}, valid loss {valid_loss_epoch}')\n",
    "            \n",
    "    def train_epoch(self, loader, criterion, optimizer):\n",
    "        \n",
    "        loss_epoch = []\n",
    "        for batch in loader:\n",
    "            prediction = self.forward(batch)\n",
    "            target = batch['label'].to(self.device)\n",
    "            loss = criterion(prediction, target)\n",
    "            optimizer.zero_grad()\n",
    "            loss.backward()\n",
    "            optimizer.step()\n",
    "            loss = loss.cpu().detach().numpy()\n",
    "            loss_epoch.append(loss)            \n",
    "        return np.mean(loss_epoch)\n",
    "    \n",
    "    def valid_epoch(self, valid_loader):\n",
    "        self.backbone.eval()\n",
    "        loss_epoch = []\n",
    "        with torch.no_grad():\n",
    "            for batch in valid_loader:\n",
    "                prediction = self.forward(batch)\n",
    "                target = batch['label'].to(self.device)\n",
    "                loss = criterion(prediction, target)\n",
    "                loss = loss.cpu().detach().numpy()\n",
    "                loss_epoch.append(loss)\n",
    "        return np.mean(loss_epoch)\n",
    "\n",
    "\n",
    "                "
   ]
  },
  {
   "cell_type": "code",
   "execution_count": 302,
   "id": "e87a4ab3",
   "metadata": {},
   "outputs": [
    {
     "name": "stdout",
     "output_type": "stream",
     "text": [
      "Epoch 1: train loss 0.7172577381134033, valid loss 1.5652762651443481\n",
      "Epoch 2: train loss 0.6838278770446777, valid loss 4.415618419647217\n",
      "Epoch 3: train loss 0.5996387004852295, valid loss 2.8860554695129395\n",
      "Epoch 4: train loss 0.5389983057975769, valid loss 5.695448875427246\n",
      "Epoch 5: train loss 0.512158215045929, valid loss 5.884030342102051\n"
     ]
    },
    {
     "ename": "KeyboardInterrupt",
     "evalue": "",
     "output_type": "error",
     "traceback": [
      "\u001b[0;31m---------------------------------------------------------------------------\u001b[0m",
      "\u001b[0;31mKeyboardInterrupt\u001b[0m                         Traceback (most recent call last)",
      "\u001b[0;32m<ipython-input-302-3b6f074eeb8d>\u001b[0m in \u001b[0;36m<module>\u001b[0;34m\u001b[0m\n\u001b[1;32m      4\u001b[0m \u001b[0;34m\u001b[0m\u001b[0m\n\u001b[1;32m      5\u001b[0m \u001b[0moptim\u001b[0m \u001b[0;34m=\u001b[0m \u001b[0mtorch\u001b[0m\u001b[0;34m.\u001b[0m\u001b[0moptim\u001b[0m\u001b[0;34m.\u001b[0m\u001b[0mAdam\u001b[0m\u001b[0;34m(\u001b[0m\u001b[0mm\u001b[0m\u001b[0;34m.\u001b[0m\u001b[0mbackbone\u001b[0m\u001b[0;34m.\u001b[0m\u001b[0mparameters\u001b[0m\u001b[0;34m(\u001b[0m\u001b[0;34m)\u001b[0m\u001b[0;34m,\u001b[0m \u001b[0mlr\u001b[0m\u001b[0;34m=\u001b[0m\u001b[0;36m1e-3\u001b[0m\u001b[0;34m)\u001b[0m\u001b[0;34m\u001b[0m\u001b[0;34m\u001b[0m\u001b[0m\n\u001b[0;32m----> 6\u001b[0;31m \u001b[0mloss\u001b[0m \u001b[0;34m=\u001b[0m \u001b[0mm\u001b[0m\u001b[0;34m.\u001b[0m\u001b[0mtrain\u001b[0m\u001b[0;34m(\u001b[0m\u001b[0mtrain_loader\u001b[0m\u001b[0;34m,\u001b[0m \u001b[0mvalid_loader\u001b[0m\u001b[0;34m,\u001b[0m \u001b[0mcriterion\u001b[0m\u001b[0;34m,\u001b[0m\u001b[0moptim\u001b[0m\u001b[0;34m,\u001b[0m \u001b[0;36m25\u001b[0m\u001b[0;34m)\u001b[0m\u001b[0;34m\u001b[0m\u001b[0;34m\u001b[0m\u001b[0m\n\u001b[0m",
      "\u001b[0;32m<ipython-input-301-aa04f2413ee3>\u001b[0m in \u001b[0;36mtrain\u001b[0;34m(self, train_loader, valid_loader, criterion, optimizer, epochs)\u001b[0m\n\u001b[1;32m     37\u001b[0m             train_loss_epoch = self.train_epoch(train_loader, \n\u001b[1;32m     38\u001b[0m                                            \u001b[0mcriterion\u001b[0m\u001b[0;34m,\u001b[0m\u001b[0;34m\u001b[0m\u001b[0;34m\u001b[0m\u001b[0m\n\u001b[0;32m---> 39\u001b[0;31m                                            optimizer)\n\u001b[0m\u001b[1;32m     40\u001b[0m             \u001b[0mtrain_loss\u001b[0m\u001b[0;34m.\u001b[0m\u001b[0mappend\u001b[0m\u001b[0;34m(\u001b[0m\u001b[0mtrain_loss_epoch\u001b[0m\u001b[0;34m)\u001b[0m\u001b[0;34m\u001b[0m\u001b[0;34m\u001b[0m\u001b[0m\n\u001b[1;32m     41\u001b[0m             \u001b[0mvalid_loss_epoch\u001b[0m \u001b[0;34m=\u001b[0m \u001b[0mself\u001b[0m\u001b[0;34m.\u001b[0m\u001b[0mvalid_epoch\u001b[0m\u001b[0;34m(\u001b[0m\u001b[0mvalid_loader\u001b[0m\u001b[0;34m)\u001b[0m\u001b[0;34m\u001b[0m\u001b[0;34m\u001b[0m\u001b[0m\n",
      "\u001b[0;32m<ipython-input-301-aa04f2413ee3>\u001b[0m in \u001b[0;36mtrain_epoch\u001b[0;34m(self, loader, criterion, optimizer)\u001b[0m\n\u001b[1;32m     54\u001b[0m             \u001b[0mloss\u001b[0m\u001b[0;34m.\u001b[0m\u001b[0mbackward\u001b[0m\u001b[0;34m(\u001b[0m\u001b[0;34m)\u001b[0m\u001b[0;34m\u001b[0m\u001b[0;34m\u001b[0m\u001b[0m\n\u001b[1;32m     55\u001b[0m             \u001b[0moptimizer\u001b[0m\u001b[0;34m.\u001b[0m\u001b[0mstep\u001b[0m\u001b[0;34m(\u001b[0m\u001b[0;34m)\u001b[0m\u001b[0;34m\u001b[0m\u001b[0;34m\u001b[0m\u001b[0m\n\u001b[0;32m---> 56\u001b[0;31m             \u001b[0mloss\u001b[0m \u001b[0;34m=\u001b[0m \u001b[0mloss\u001b[0m\u001b[0;34m.\u001b[0m\u001b[0mcpu\u001b[0m\u001b[0;34m(\u001b[0m\u001b[0;34m)\u001b[0m\u001b[0;34m.\u001b[0m\u001b[0mdetach\u001b[0m\u001b[0;34m(\u001b[0m\u001b[0;34m)\u001b[0m\u001b[0;34m.\u001b[0m\u001b[0mnumpy\u001b[0m\u001b[0;34m(\u001b[0m\u001b[0;34m)\u001b[0m\u001b[0;34m\u001b[0m\u001b[0;34m\u001b[0m\u001b[0m\n\u001b[0m\u001b[1;32m     57\u001b[0m             \u001b[0mloss_epoch\u001b[0m\u001b[0;34m.\u001b[0m\u001b[0mappend\u001b[0m\u001b[0;34m(\u001b[0m\u001b[0mloss\u001b[0m\u001b[0;34m)\u001b[0m\u001b[0;34m\u001b[0m\u001b[0;34m\u001b[0m\u001b[0m\n\u001b[1;32m     58\u001b[0m         \u001b[0;32mreturn\u001b[0m \u001b[0mnp\u001b[0m\u001b[0;34m.\u001b[0m\u001b[0mmean\u001b[0m\u001b[0;34m(\u001b[0m\u001b[0mloss_epoch\u001b[0m\u001b[0;34m)\u001b[0m\u001b[0;34m\u001b[0m\u001b[0;34m\u001b[0m\u001b[0m\n",
      "\u001b[0;31mKeyboardInterrupt\u001b[0m: "
     ]
    }
   ],
   "source": [
    "m = Model(resnet, 'cuda:0')\n",
    "\n",
    "criterion = nn.CrossEntropyLoss()\n",
    "\n",
    "optim = torch.optim.Adam(m.backbone.parameters(), lr=1e-3)\n",
    "loss = m.train(train_loader, valid_loader, criterion,optim, 25)"
   ]
  },
  {
   "cell_type": "code",
   "execution_count": 303,
   "id": "15e7ff71",
   "metadata": {},
   "outputs": [],
   "source": [
    "segments = valid_dataset._items\n",
    "batch_data = {name: torch.stack([segment[name] for segment in segments])\n",
    "              for name in segments[0].keys()}"
   ]
  },
  {
   "cell_type": "code",
   "execution_count": 304,
   "id": "ae95b6bc",
   "metadata": {},
   "outputs": [],
   "source": [
    "piezo1 = batch_data['piezo1'][:, :, None]\n",
    "piezo2 = batch_data['piezo2'][:, :, None]\n",
    "piezo3 = batch_data['piezo3'][:, :, None]\n",
    "piezo4 = batch_data['piezo4'][:, :, None]\n",
    "piezo5 = batch_data['piezo5'][:, :, None]\n",
    "piezoA = batch_data['piezoA'][:, :, None]\n",
    "piezoB = batch_data['piezoB'][:, :, None]\n",
    "piezoEF = batch_data['piezoEF'][:, :, None]\n",
    "piezoDC = batch_data['piezoDC'][:, :, None]\n",
    "\n",
    "x = torch.cat((piezo1, piezo2, piezo3, piezo4, piezo5, \n",
    "               piezoA, piezoB, piezoEF, piezoDC), -1)\n",
    "#         thorax = batch_data['thorax'][:, :, None]\n",
    "#         abdomen = batch_data['abdomen'][:, :, None]\n",
    "#         plethysmogram = batch_data['pleth'][:, :, None]\n",
    "#         x = torch.cat((thorax, abdomen, plethysmogram), -1)\n",
    "x = x.permute(0, 2, 1)"
   ]
  },
  {
   "cell_type": "code",
   "execution_count": 305,
   "id": "1a291d5c",
   "metadata": {},
   "outputs": [],
   "source": [
    "m.backbone.eval()\n",
    "m.backbone.cpu()\n",
    "with torch.no_grad():\n",
    "    prediction = m.backbone(x)"
   ]
  },
  {
   "cell_type": "code",
   "execution_count": 306,
   "id": "89240a89",
   "metadata": {},
   "outputs": [],
   "source": [
    "result = torch.argmax(prediction, 1)"
   ]
  },
  {
   "cell_type": "code",
   "execution_count": 308,
   "id": "112f5151",
   "metadata": {},
   "outputs": [
    {
     "data": {
      "text/plain": [
       "[<matplotlib.lines.Line2D at 0x7fa29ed6f240>]"
      ]
     },
     "execution_count": 308,
     "metadata": {},
     "output_type": "execute_result"
    },
    {
     "data": {
      "image/png": "[encoded data removed]",
      "text/plain": [
       "<Figure size 432x288 with 1 Axes>"
      ]
     },
     "metadata": {
      "needs_background": "light"
     },
     "output_type": "display_data"
    }
   ],
   "source": [
    "start = 0\n",
    "stop = -1\n",
    "plt.plot(result.cpu().detach().numpy()[start:stop])\n",
    "plt.plot(batch_data['label'][start:stop])"
   ]
  },
  {
   "cell_type": "code",
   "execution_count": 309,
   "id": "51a3f7a8",
   "metadata": {},
   "outputs": [
    {
     "data": {
      "text/plain": [
       "0.31016373185047885"
      ]
     },
     "execution_count": 309,
     "metadata": {},
     "output_type": "execute_result"
    }
   ],
   "source": [
    "from sklearn.metrics import accuracy_score\n",
    "accuracy_score(batch_data['label'].numpy(), result.cpu().detach().numpy())"
   ]
  },
  {
   "cell_type": "code",
   "execution_count": 15,
   "id": "65782650",
   "metadata": {},
   "outputs": [],
   "source": [
    "def remove_trend(signal, a=1, cutoff=0.3, fs=256, numcoef=1025, pass_zero=False):\n",
    "    b = scipy.signal.firwin(numcoef, cutoff, fs=fs, pass_zero=pass_zero)\n",
    "    cleared_signal = scipy.signal.filtfilt(b, a, signal)\n",
    "    return cleared_signal\n",
    "\n",
    "def min_max_scaler(X):\n",
    "    \n",
    "    X_std = (X - np.min(X)) / (np.max(X) - np.min(X))\n",
    "    \n",
    "    return X_std\n",
    "\n",
    "def get_rr_interval(peaks):\n",
    "    rr_intervals = np.diff(peaks)\n",
    "\n",
    "    return rr_intervals\n",
    "\n",
    "def get_ecg_features(ecg_window):\n",
    "    \n",
    "    without_trend = remove_trend(ecg_window)\n",
    "    scaled_z = min_max_scaler(without_trend)\n",
    "    peaks = scipy.signal.find_peaks(scaled_z, distance = int(0.5*256))\n",
    "    rr_intervals = get_rr_interval(peaks[0])\n",
    "    \n",
    "    logs = np.zeros(ecg_window.shape[0])\n",
    "    logs[peaks[0]] = 1\n",
    "    \n",
    "    \n",
    "    return {'rri': rr_intervals, 'average_rri': np.mean(rr_intervals),\n",
    "            'number_of_beats': np.sum(logs), \n",
    "            'beats': logs, 'peaks': peaks}"
   ]
  },
  {
   "cell_type": "code",
   "execution_count": null,
   "id": "953f9644",
   "metadata": {},
   "outputs": [],
   "source": [
    "def AdaptBP_weight(X, f0, beta, delta, mu, fe, Aff):\n",
    "    f0 = f0 / fe\n",
    "    N = X.shape[0]\n",
    "    nsig = 1\n",
    "    weights = np.zeros((N, nsig))\n",
    "    Y = X\n",
    "    alpha = np.ones(N + 1) * np.cos(2 * np.pi * f0)\n",
    "    b = 0.5 * (1 - beta) * np.array([1, 0, -1])\n",
    "    a = np.array([1, -alpha[1] * (beta + 1), beta])\n",
    "    V = signal.lfilter(b, a, Y)\n",
    "    Q = np.mean(V[2:99]*(V[1:98] + V[3:100]))\n",
    "    P = np.mean(V[1:100]**2)\n",
    "    J = V[3:100]-2 * alpha[1] * V[2:99]+V[1: 98]\n",
    "    J = np.mean(J * J)\n",
    "    S = np.mean((X[1:100])** 2)\n",
    "    W = S / J\n",
    "    weights[1, :] = W / np.sum(W)\n",
    "    weights[2, :] = W / np.sum(W)\n",
    "    for n in np.arange(3, N):\n",
    "        Y[n] = alpha[n] * (beta + 1) * Y[n - 1] - beta * Y[n - 2] + 0.5 * (1 - beta) * (X[n] - X[n - 2])\n",
    "        Q = delta * Q + (1 - delta) * (Y[n - 1] * (Y[n] + Y[n - 2]))\n",
    "        P = delta * P + (1 - delta) * Y[n - 1] * Y[n - 1]\n",
    "        J = mu * J + (1 - mu) * (Y[n] - 2 * alpha[n] * Y[n - 1]+Y[n - 2])** 2\n",
    "        S = mu * S + (1 - mu) * X[n]** 2\n",
    "        W = S / J\n",
    "        weights[n, :] = W / np.sum(W)\n",
    "        alpha[n + 1] = 0.5 * weights[n,:]*(Q / P)\n",
    "    k = alpha.shape[0]\n",
    "    alpha = alpha[1: k-1]\n",
    "    alpha = alpha * (abs(alpha) < 1) + 1.0 * (alpha >= 1) - 1.0 * (alpha <= -1)\n",
    "    IF = fe * np.real(np.arccos(alpha)) / 2 / np.pi\n",
    "    return IF\n",
    "\n",
    "\n",
    "\n"
   ]
  }
 ],
 "metadata": {
  "kernelspec": {
   "display_name": "Python 3",
   "language": "python",
   "name": "python3"
  },
  "language_info": {
   "codemirror_mode": {
    "name": "ipython",
    "version": 3
   },
   "file_extension": ".py",
   "mimetype": "text/x-python",
   "name": "python",
   "nbconvert_exporter": "python",
   "pygments_lexer": "ipython3",
   "version": "3.6.9"
  }
 },
 "nbformat": 4,
 "nbformat_minor": 5
}
